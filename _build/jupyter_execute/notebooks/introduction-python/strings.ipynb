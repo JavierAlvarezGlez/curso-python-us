{
 "cells": [
  {
   "cell_type": "markdown",
   "metadata": {
    "id": "9NV-nZiQEoRe"
   },
   "source": [
    "# Strings\n",
    "\n",
    "Las **cadenas** nos permiten almacenar un conjunto de caracteres ordenados. Podemos definir una cadena usando \n",
    "- comillas simples: `'Hello world'`\n",
    "- comillas dobles: `\"Hello world\"`\n",
    "- comillas triples: `'''Hello world'''` o `\"\"\"Hello world\"\"\"`\n",
    "\n",
    "Por defecto, Python utiliza la [codificación UTF-8](https://docs.python.org/3/howto/unicode.html#unicode-howto) para representar una amplia gama de caracteres, como pueden ser las tildes, nuestra `ñ` o una letra del alfabeto chino"
   ]
  },
  {
   "cell_type": "code",
   "execution_count": null,
   "metadata": {
    "colab": {
     "base_uri": "https://localhost:8080/"
    },
    "id": "4H_bmp-5EoRg",
    "outputId": "552958bc-8098-4bff-ee63-f10bd75f06d5"
   },
   "outputs": [
    {
     "name": "stdout",
     "output_type": "stream",
     "text": [
      "你好\n"
     ]
    }
   ],
   "source": [
    "print(\"你好\")"
   ]
  },
  {
   "cell_type": "markdown",
   "metadata": {
    "id": "w_ctq1arHFxv"
   },
   "source": [
    "Al igual que pasaba con los tipos numéricos, las cadenas en Python son objetos **inmutables**, es decir, una vez creados no pueden ser modificados. El tipo correspondiente es `str`"
   ]
  },
  {
   "cell_type": "code",
   "execution_count": null,
   "metadata": {
    "colab": {
     "base_uri": "https://localhost:8080/"
    },
    "id": "QcRodX43IiWy",
    "outputId": "d16c777f-7e9b-43d5-c751-e548a3fbb509"
   },
   "outputs": [
    {
     "data": {
      "text/plain": [
       "str"
      ]
     },
     "execution_count": 47,
     "metadata": {},
     "output_type": "execute_result"
    }
   ],
   "source": [
    "type(\"Hello\")"
   ]
  },
  {
   "cell_type": "code",
   "execution_count": null,
   "metadata": {
    "colab": {
     "base_uri": "https://localhost:8080/"
    },
    "id": "o1sCXh91IkpI",
    "outputId": "72aead5d-f016-4c17-c1e6-d4b07a01ffaf"
   },
   "outputs": [
    {
     "data": {
      "text/plain": [
       "True"
      ]
     },
     "execution_count": 48,
     "metadata": {},
     "output_type": "execute_result"
    }
   ],
   "source": [
    "isinstance(\"42\", str)"
   ]
  },
  {
   "cell_type": "code",
   "execution_count": null,
   "metadata": {
    "colab": {
     "base_uri": "https://localhost:8080/",
     "height": 36
    },
    "id": "-A2yMxToImkU",
    "outputId": "d11e0ea8-e05f-435d-f918-4b9c03bbe073"
   },
   "outputs": [
    {
     "data": {
      "application/vnd.google.colaboratory.intrinsic+json": {
       "type": "string"
      },
      "text/plain": [
       "'True'"
      ]
     },
     "execution_count": 49,
     "metadata": {},
     "output_type": "execute_result"
    }
   ],
   "source": [
    "str(True)"
   ]
  },
  {
   "cell_type": "markdown",
   "metadata": {
    "id": "tT0EIDhgJIYC"
   },
   "source": [
    "Otra característica de las cadenas es que son objetos **secuenciales**, es decir, tienen un orden interno y podemos acceder a sus objetos a través de un entero empezando en 0. "
   ]
  },
  {
   "cell_type": "code",
   "execution_count": null,
   "metadata": {
    "colab": {
     "base_uri": "https://localhost:8080/"
    },
    "id": "YoE0eNJ-Kvc2",
    "outputId": "189f4b5b-db31-40c0-8c68-d8a21ef1b007"
   },
   "outputs": [
    {
     "name": "stdout",
     "output_type": "stream",
     "text": [
      "E\n",
      "lugar de \n",
      "e\n",
      "lugar de la mancha de cuyo nombre no quiero acordarme\n",
      "En un lugar de la mancha de cuyo nombre no quiero acor\n"
     ]
    }
   ],
   "source": [
    "sentence = \"En un lugar de la mancha de cuyo nombre no quiero acordarme\"\n",
    "print(sentence[0])\n",
    "print(sentence[6:15])\n",
    "print(sentence[-1])\n",
    "print(sentence[6:])\n",
    "print(sentence[:-5])"
   ]
  },
  {
   "cell_type": "markdown",
   "metadata": {
    "id": "zOzgCVOrK8ia"
   },
   "source": [
    "> Estas operaciones de indexado no son exclusivas de las cadenas, si no que se pueden aplicar a cualquier tipo que sea secuencial."
   ]
  },
  {
   "cell_type": "markdown",
   "metadata": {
    "id": "oIWCFThgLinR"
   },
   "source": [
    "Podemos escribir saltos de líneas y tabulaciones mediante los caracteres `\\n` y `\\t`, respectivamente. Si queremos obviar el comportamiento de estos caracteres, podemos utilizar la función `repr` en lugar de `print`"
   ]
  },
  {
   "cell_type": "code",
   "execution_count": null,
   "metadata": {
    "colab": {
     "base_uri": "https://localhost:8080/",
     "height": 73
    },
    "id": "axffIRanMCVm",
    "outputId": "a4c0bc95-1e21-43b8-b579-f62960d1fdb7"
   },
   "outputs": [
    {
     "name": "stdout",
     "output_type": "stream",
     "text": [
      "foo...\n",
      "...bar\n"
     ]
    },
    {
     "data": {
      "application/vnd.google.colaboratory.intrinsic+json": {
       "type": "string"
      },
      "text/plain": [
       "\"'foo...\\\\n...bar'\""
      ]
     },
     "execution_count": 51,
     "metadata": {},
     "output_type": "execute_result"
    }
   ],
   "source": [
    "x = \"foo...\\n...bar\"\n",
    "print(x)\n",
    "repr(x)"
   ]
  },
  {
   "cell_type": "markdown",
   "metadata": {
    "id": "tUkk3eH6QC_z"
   },
   "source": [
    "Si queremos escribir una cadena a lo largo de varias líneas, podemos utilizar comillas triples y ahorrarnos el `\\n`"
   ]
  },
  {
   "cell_type": "code",
   "execution_count": null,
   "metadata": {
    "colab": {
     "base_uri": "https://localhost:8080/"
    },
    "id": "d6H18xvgQK7Q",
    "outputId": "04cf638a-3f5f-4fb1-8c6e-9ac38c89ba91"
   },
   "outputs": [
    {
     "name": "stdout",
     "output_type": "stream",
     "text": [
      "\n",
      "foo...\n",
      "...bar\n",
      "\n"
     ]
    }
   ],
   "source": [
    "y = \"\"\"\n",
    "foo...\n",
    "...bar\n",
    "\"\"\"\n",
    "print(y)"
   ]
  },
  {
   "cell_type": "markdown",
   "metadata": {
    "id": "dZMjP4wbMILn"
   },
   "source": [
    "---\n",
    "## Funciones para manipular cadenas\n",
    "Python incorpora un gran número de funciones y métodos para operar con cadenas. A continuación mostramos algunas de las más comunes"
   ]
  },
  {
   "cell_type": "code",
   "execution_count": null,
   "metadata": {
    "colab": {
     "base_uri": "https://localhost:8080/",
     "height": 36
    },
    "id": "a41ykEIDMiT5",
    "outputId": "77e692a3-750d-41f7-c597-69710db4dd6d"
   },
   "outputs": [
    {
     "data": {
      "application/vnd.google.colaboratory.intrinsic+json": {
       "type": "string"
      },
      "text/plain": [
       "'Hello'"
      ]
     },
     "execution_count": 53,
     "metadata": {},
     "output_type": "execute_result"
    }
   ],
   "source": [
    "# Convierte la primera letra en mayúscula\n",
    "\"hello\".capitalize()"
   ]
  },
  {
   "cell_type": "code",
   "execution_count": null,
   "metadata": {
    "colab": {
     "base_uri": "https://localhost:8080/",
     "height": 36
    },
    "id": "wDpszzieMy98",
    "outputId": "aa7e9897-646a-481b-8f9f-4de9a32ec6cb"
   },
   "outputs": [
    {
     "data": {
      "application/vnd.google.colaboratory.intrinsic+json": {
       "type": "string"
      },
      "text/plain": [
       "'89FDSHJFJL43FD92'"
      ]
     },
     "execution_count": 54,
     "metadata": {},
     "output_type": "execute_result"
    }
   ],
   "source": [
    "# Convierte en mayúscula y minúscula\n",
    "\"89fdsHJFjl43FD92\".upper() #.lower()"
   ]
  },
  {
   "cell_type": "code",
   "execution_count": null,
   "metadata": {
    "colab": {
     "base_uri": "https://localhost:8080/",
     "height": 36
    },
    "id": "kNrXtQg6ND2J",
    "outputId": "eb60e560-c96b-4f33-c133-4a16bbbdfcd4"
   },
   "outputs": [
    {
     "data": {
      "application/vnd.google.colaboratory.intrinsic+json": {
       "type": "string"
      },
      "text/plain": [
       "'A...B...C'"
      ]
     },
     "execution_count": 55,
     "metadata": {},
     "output_type": "execute_result"
    }
   ],
   "source": [
    "# Une una lista de cadenas mediante otra cadena \n",
    "\"...\".join([\"A\", \"B\", \"C\"])"
   ]
  },
  {
   "cell_type": "code",
   "execution_count": null,
   "metadata": {
    "colab": {
     "base_uri": "https://localhost:8080/"
    },
    "id": "92nVckeZNddU",
    "outputId": "6f444c38-0256-4657-abee-6501b1400527"
   },
   "outputs": [
    {
     "data": {
      "text/plain": [
       "['Universidad', 'de', 'Sevilla']"
      ]
     },
     "execution_count": 56,
     "metadata": {},
     "output_type": "execute_result"
    }
   ],
   "source": [
    "# Separa una cadena en una lista de cadenas \n",
    "\"Universidad de Sevilla\".split(\" \")"
   ]
  },
  {
   "cell_type": "code",
   "execution_count": null,
   "metadata": {
    "colab": {
     "base_uri": "https://localhost:8080/",
     "height": 36
    },
    "id": "47Xe7YMXNq39",
    "outputId": "67e40a0f-3c35-4d32-d135-0c1987792066"
   },
   "outputs": [
    {
     "data": {
      "application/vnd.google.colaboratory.intrinsic+json": {
       "type": "string"
      },
      "text/plain": [
       "'Facultad de Matemáticas'"
      ]
     },
     "execution_count": 57,
     "metadata": {},
     "output_type": "execute_result"
    }
   ],
   "source": [
    "# reemplaza una parte de una cadena por otra\n",
    "\"Facultad de Física\".replace(\"Física\", \"Matemáticas\")"
   ]
  },
  {
   "cell_type": "markdown",
   "metadata": {
    "id": "FY0pCTsYTwXZ"
   },
   "source": [
    "Muchas más funciones pueden encontrarse en la [documentación oficial](https://docs.python.org/3/library/stdtypes.html#string-methods)"
   ]
  },
  {
   "cell_type": "markdown",
   "metadata": {
    "id": "UpJDG_T1OCvr"
   },
   "source": [
    "---\n",
    "## f-strings\n",
    "Las cadenas formateadas o *f-strings* nos permiten incrustar variables en una cadena con una sintaxis muy cómoda. Para definir una cadena mediante este método, escribimos una `f` justo antes de las comillas (ya sean simples, dobles o triples). Veámoslo con un ejemplo"
   ]
  },
  {
   "cell_type": "code",
   "execution_count": null,
   "metadata": {
    "colab": {
     "base_uri": "https://localhost:8080/"
    },
    "id": "148S7AzoPgcv",
    "outputId": "83860313-3e31-40de-8765-3cb7b93c675e"
   },
   "outputs": [
    {
     "name": "stdout",
     "output_type": "stream",
     "text": [
      "Me llamo Antonio y tengo 45 años\n"
     ]
    }
   ],
   "source": [
    "nombre = \"Antonio\"\n",
    "edad = 45\n",
    "msg = f\"Me llamo {nombre} y tengo {edad} años\"\n",
    "print(msg)"
   ]
  },
  {
   "cell_type": "markdown",
   "metadata": {
    "id": "KZ5IvfiYPtxn"
   },
   "source": [
    "No solo podemos incluir variables si no expresiones que son directamente evaluadas"
   ]
  },
  {
   "cell_type": "code",
   "execution_count": null,
   "metadata": {
    "colab": {
     "base_uri": "https://localhost:8080/"
    },
    "id": "mGtA6FO7Q1fS",
    "outputId": "b1de6ef2-21d8-44fb-cce7-a43109eeb068"
   },
   "outputs": [
    {
     "name": "stdout",
     "output_type": "stream",
     "text": [
      "El cociente de dividir 432 entre 17 vale 7\n"
     ]
    }
   ],
   "source": [
    "x = 432\n",
    "y = 17\n",
    "msg = f\"El cociente de dividir {x} entre {y} vale {x % y}\"\n",
    "print(msg)"
   ]
  },
  {
   "cell_type": "markdown",
   "metadata": {
    "id": "n9xz29i0RIBI"
   },
   "source": [
    "Las cadenas formatedas no están disponibles en versiones de Python anteriores a la 3.6, en su lugar hay que usar la antigua sintaxis con la función `format`. Para mostrar un número concreto de decimales u otras opciones, existe la posibilidad de formatear las cadenas "
   ]
  },
  {
   "cell_type": "code",
   "execution_count": null,
   "metadata": {
    "colab": {
     "base_uri": "https://localhost:8080/"
    },
    "id": "EQkkeElGf4HN",
    "outputId": "fec91eeb-f2e4-4d23-f4ff-04e16ac5e8b2"
   },
   "outputs": [
    {
     "name": "stdout",
     "output_type": "stream",
     "text": [
      "El número 𝜋 con 7 decimales: 3.1415927\n"
     ]
    }
   ],
   "source": [
    "from math import pi\n",
    "print(f\"El número 𝜋 con 7 decimales: {pi:0.7f}\")"
   ]
  },
  {
   "cell_type": "markdown",
   "metadata": {
    "id": "NDGy8fEFRVWz"
   },
   "source": [
    ":::{exercise}\n",
    ":label: strings-split\n",
    "\n",
    "¿En qué se diferencian las funciones `split` y `rsplit`?\n",
    "\n",
    ":::"
   ]
  },
  {
   "cell_type": "markdown",
   "metadata": {
    "id": "0OsX4BYWUVTP"
   },
   "source": [
    ":::{exercise}\n",
    ":label: strings-scape\n",
    "\n",
    "Considera las siguientes cadenas \n",
    "\n",
    "\n",
    "```\n",
    "x = \"foo\\nbar\"\n",
    "y = \"\"\"\n",
    "foo\n",
    "bar\n",
    "\"\"\"\n",
    "```\n",
    "\n",
    "¿Se tiene que `x == y`? ¿Por qué?\n",
    "\n",
    ":::"
   ]
  },
  {
   "cell_type": "markdown",
   "metadata": {
    "id": "hRULYfcPVB_D"
   },
   "source": [
    ":::{exercise}\n",
    ":label: strings-check-name\n",
    "\n",
    "Utilizando la variable `ascii_lowercase` del módulo `string`, escribe una cadena formateada que indique si tu nombre contiene la decimosegunda letra del abecedario.\n",
    "\n",
    ":::"
   ]
  }
 ],
 "metadata": {
  "colab": {
   "provenance": []
  },
  "kernelspec": {
   "display_name": "Python 3.9.1 64-bit",
   "language": "python",
   "name": "python3"
  },
  "language_info": {
   "name": "python",
   "version": "3.9.1"
  },
  "vscode": {
   "interpreter": {
    "hash": "397704579725e15f5c7cb49fe5f0341eb7531c82d19f2c29d197e8b64ab5776b"
   }
  }
 },
 "nbformat": 4,
 "nbformat_minor": 0
}