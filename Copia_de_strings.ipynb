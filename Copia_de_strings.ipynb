{
  "cells": [
    {
      "cell_type": "markdown",
      "metadata": {
        "id": "view-in-github",
        "colab_type": "text"
      },
      "source": [
        "<a href=\"https://colab.research.google.com/github/JavierAlvarezGlez/curso-python-us/blob/main/Copia_de_strings.ipynb\" target=\"_parent\"><img src=\"https://colab.research.google.com/assets/colab-badge.svg\" alt=\"Open In Colab\"/></a>"
      ]
    },
    {
      "cell_type": "markdown",
      "metadata": {
        "id": "9NV-nZiQEoRe"
      },
      "source": [
        "# Strings\n",
        "\n",
        "Las **cadenas** nos permiten almacenar un conjunto de caracteres ordenados. Podemos definir una cadena usando\n",
        "- comillas simples: `'Hello world'`\n",
        "- comillas dobles: `\"Hello world\"`\n",
        "- comillas triples: `'''Hello world'''` o `\"\"\"Hello world\"\"\"`\n",
        "\n",
        "Por defecto, Python utiliza la [codificación UTF-8](https://docs.python.org/3/howto/unicode.html#unicode-howto) para representar una amplia gama de caracteres, como pueden ser las tildes, nuestra `ñ` o una letra del alfabeto chino"
      ]
    },
    {
      "cell_type": "code",
      "source": [
        "print(\"你好\")"
      ],
      "metadata": {
        "id": "4H_bmp-5EoRg",
        "colab": {
          "base_uri": "https://localhost:8080/"
        },
        "outputId": "c2808fc1-d4e0-4c95-ea7e-50838f362c8c"
      },
      "execution_count": 1,
      "outputs": [
        {
          "output_type": "stream",
          "name": "stdout",
          "text": [
            "你好\n"
          ]
        }
      ]
    },
    {
      "cell_type": "markdown",
      "source": [
        "Al igual que pasaba con los tipos numéricos, las cadenas en Python son objetos **inmutables**, es decir, una vez creados no pueden ser modificados. El tipo correspondiente es `str`"
      ],
      "metadata": {
        "id": "w_ctq1arHFxv"
      }
    },
    {
      "cell_type": "code",
      "source": [
        "type(\"Hello\")"
      ],
      "metadata": {
        "colab": {
          "base_uri": "https://localhost:8080/"
        },
        "id": "QcRodX43IiWy",
        "outputId": "c09a1fdc-1acd-4617-f365-0fe771d0723b"
      },
      "execution_count": 2,
      "outputs": [
        {
          "output_type": "execute_result",
          "data": {
            "text/plain": [
              "str"
            ]
          },
          "metadata": {},
          "execution_count": 2
        }
      ]
    },
    {
      "cell_type": "code",
      "source": [
        "isinstance(\"42\", str)"
      ],
      "metadata": {
        "colab": {
          "base_uri": "https://localhost:8080/"
        },
        "id": "o1sCXh91IkpI",
        "outputId": "2bb8b80a-eea3-40dd-bba2-a377a1bdc397"
      },
      "execution_count": 13,
      "outputs": [
        {
          "output_type": "execute_result",
          "data": {
            "text/plain": [
              "True"
            ]
          },
          "metadata": {},
          "execution_count": 13
        }
      ]
    },
    {
      "cell_type": "code",
      "source": [
        "str(True)"
      ],
      "metadata": {
        "colab": {
          "base_uri": "https://localhost:8080/",
          "height": 35
        },
        "id": "-A2yMxToImkU",
        "outputId": "21a0955d-104b-455c-89f4-4f5c82315807"
      },
      "execution_count": 14,
      "outputs": [
        {
          "output_type": "execute_result",
          "data": {
            "text/plain": [
              "'True'"
            ],
            "application/vnd.google.colaboratory.intrinsic+json": {
              "type": "string"
            }
          },
          "metadata": {},
          "execution_count": 14
        }
      ]
    },
    {
      "cell_type": "code",
      "source": [
        "s = \"hola \\n mundo\"\n",
        "print (s)\n",
        "r = \"\"\"hola\n",
        "mundo\"\"\"\n",
        "print(r)"
      ],
      "metadata": {
        "colab": {
          "base_uri": "https://localhost:8080/"
        },
        "id": "wCVE06ONCioH",
        "outputId": "12c75d89-30ee-492c-ee1b-5f7856c9ff3d"
      },
      "execution_count": 11,
      "outputs": [
        {
          "output_type": "stream",
          "name": "stdout",
          "text": [
            "hola \n",
            " mundo\n",
            "hola \n",
            "mundo\n"
          ]
        }
      ]
    },
    {
      "cell_type": "markdown",
      "source": [
        "Otra característica de las cadenas es que son objetos **secuenciales**, es decir, tienen un orden interno y podemos acceder a sus objetos a través de un entero empezando en 0."
      ],
      "metadata": {
        "id": "tT0EIDhgJIYC"
      }
    },
    {
      "cell_type": "code",
      "source": [
        "sentence = \"En un lugar de la mancha de cuyo nombre no quiero acordarme\"\n",
        "print(sentence[0])\n",
        "print(sentence[6:15])\n",
        "print(sentence[-1])\n",
        "print(sentence[6:])\n",
        "print(sentence[:-5])"
      ],
      "metadata": {
        "colab": {
          "base_uri": "https://localhost:8080/"
        },
        "id": "YoE0eNJ-Kvc2",
        "outputId": "d239acbb-665b-4739-861f-13cdea048820"
      },
      "execution_count": 16,
      "outputs": [
        {
          "output_type": "stream",
          "name": "stdout",
          "text": [
            "E\n",
            "lugar de \n",
            "e\n",
            "lugar de la mancha de cuyo nombre no quiero acordarme\n",
            "En un lugar de la mancha de cuyo nombre no quiero acor\n"
          ]
        }
      ]
    },
    {
      "cell_type": "markdown",
      "source": [
        "> Estas operaciones de indexado no son exclusivas de las cadenas, si no que se pueden aplicar a cualquier tipo que sea secuencial."
      ],
      "metadata": {
        "id": "zOzgCVOrK8ia"
      }
    },
    {
      "cell_type": "markdown",
      "source": [
        "Podemos escribir saltos de líneas y tabulaciones mediante los caracteres `\\n` y `\\t`, respectivamente. Si queremos obviar el comportamiento de estos caracteres, podemos utilizar la función `repr` en lugar de `print`"
      ],
      "metadata": {
        "id": "oIWCFThgLinR"
      }
    },
    {
      "cell_type": "code",
      "source": [
        "x = \"foo...\\n...bar\"\n",
        "print(x)\n",
        "repr(x)"
      ],
      "metadata": {
        "colab": {
          "base_uri": "https://localhost:8080/",
          "height": 70
        },
        "id": "axffIRanMCVm",
        "outputId": "6450e83b-5277-43fd-c1cc-12b4a631c219"
      },
      "execution_count": 17,
      "outputs": [
        {
          "output_type": "stream",
          "name": "stdout",
          "text": [
            "foo...\n",
            "...bar\n"
          ]
        },
        {
          "output_type": "execute_result",
          "data": {
            "text/plain": [
              "\"'foo...\\\\n...bar'\""
            ],
            "application/vnd.google.colaboratory.intrinsic+json": {
              "type": "string"
            }
          },
          "metadata": {},
          "execution_count": 17
        }
      ]
    },
    {
      "cell_type": "markdown",
      "source": [
        "Si queremos escribir una cadena a lo largo de varias líneas, podemos utilizar comillas triples y ahorrarnos el `\\n`"
      ],
      "metadata": {
        "id": "tUkk3eH6QC_z"
      }
    },
    {
      "cell_type": "code",
      "source": [
        "y = \"\"\"\n",
        "foo...\n",
        "...bar\n",
        "\"\"\"\n",
        "print(y)"
      ],
      "metadata": {
        "colab": {
          "base_uri": "https://localhost:8080/"
        },
        "id": "d6H18xvgQK7Q",
        "outputId": "04cf638a-3f5f-4fb1-8c6e-9ac38c89ba91"
      },
      "execution_count": null,
      "outputs": [
        {
          "output_type": "stream",
          "name": "stdout",
          "text": [
            "\n",
            "foo...\n",
            "...bar\n",
            "\n"
          ]
        }
      ]
    },
    {
      "cell_type": "markdown",
      "source": [
        "---\n",
        "## Funciones para manipular cadenas\n",
        "Python incorpora un gran número de funciones y métodos para operar con cadenas. A continuación mostramos algunas de las más comunes"
      ],
      "metadata": {
        "id": "dZMjP4wbMILn"
      }
    },
    {
      "cell_type": "code",
      "source": [
        "# Convierte la primera letra en mayúscula\n",
        "\"hello\".capitalize()\n",
        "# objeto.metodo()\n",
        "# function(objeto)"
      ],
      "metadata": {
        "colab": {
          "base_uri": "https://localhost:8080/",
          "height": 35
        },
        "id": "a41ykEIDMiT5",
        "outputId": "51e6f622-4a43-4159-96a8-60c90168a09d"
      },
      "execution_count": 20,
      "outputs": [
        {
          "output_type": "execute_result",
          "data": {
            "text/plain": [
              "'Hello'"
            ],
            "application/vnd.google.colaboratory.intrinsic+json": {
              "type": "string"
            }
          },
          "metadata": {},
          "execution_count": 20
        }
      ]
    },
    {
      "cell_type": "code",
      "source": [
        "# Convierte en mayúscula y minúscula\n",
        "\"89fdsHJFjl43FD92\".upper() #.lower()"
      ],
      "metadata": {
        "colab": {
          "base_uri": "https://localhost:8080/",
          "height": 35
        },
        "id": "wDpszzieMy98",
        "outputId": "3768ed47-d3a5-4b8a-c33f-71028b2c4e82"
      },
      "execution_count": 22,
      "outputs": [
        {
          "output_type": "execute_result",
          "data": {
            "text/plain": [
              "'89FDSHJFJL43FD92'"
            ],
            "application/vnd.google.colaboratory.intrinsic+json": {
              "type": "string"
            }
          },
          "metadata": {},
          "execution_count": 22
        }
      ]
    },
    {
      "cell_type": "code",
      "source": [
        "# Une una lista de cadenas mediante otra cadena\n",
        "\"...\".join([\"A\", \"B\", \"C\"])"
      ],
      "metadata": {
        "colab": {
          "base_uri": "https://localhost:8080/",
          "height": 35
        },
        "id": "kNrXtQg6ND2J",
        "outputId": "3a3ab8a8-8b22-4d9f-8def-10d2fb7c575f"
      },
      "execution_count": 21,
      "outputs": [
        {
          "output_type": "execute_result",
          "data": {
            "text/plain": [
              "'A...B...C'"
            ],
            "application/vnd.google.colaboratory.intrinsic+json": {
              "type": "string"
            }
          },
          "metadata": {},
          "execution_count": 21
        }
      ]
    },
    {
      "cell_type": "code",
      "source": [
        "# Separa una cadena en una lista de cadenas\n",
        "\"Universidad de Sevilla\".split(\" \")"
      ],
      "metadata": {
        "colab": {
          "base_uri": "https://localhost:8080/"
        },
        "id": "92nVckeZNddU",
        "outputId": "9c474d43-1af0-49ec-e07f-e458cbe1d9bc"
      },
      "execution_count": 23,
      "outputs": [
        {
          "output_type": "execute_result",
          "data": {
            "text/plain": [
              "['Universidad', 'de', 'Sevilla']"
            ]
          },
          "metadata": {},
          "execution_count": 23
        }
      ]
    },
    {
      "cell_type": "code",
      "source": [
        "# reemplaza una parte de una cadena por otra\n",
        "\"Facultad de Física\".replace(\"Física\", \"Matemáticas\")"
      ],
      "metadata": {
        "colab": {
          "base_uri": "https://localhost:8080/",
          "height": 35
        },
        "id": "47Xe7YMXNq39",
        "outputId": "58852b3b-7da3-4bac-a0ee-eee0ccd18937"
      },
      "execution_count": 24,
      "outputs": [
        {
          "output_type": "execute_result",
          "data": {
            "text/plain": [
              "'Facultad de Matemáticas'"
            ],
            "application/vnd.google.colaboratory.intrinsic+json": {
              "type": "string"
            }
          },
          "metadata": {},
          "execution_count": 24
        }
      ]
    },
    {
      "cell_type": "markdown",
      "source": [
        "Muchas más funciones pueden encontrarse en la [documentación oficial](https://docs.python.org/3/library/stdtypes.html#string-methods)"
      ],
      "metadata": {
        "id": "FY0pCTsYTwXZ"
      }
    },
    {
      "cell_type": "markdown",
      "source": [
        "---\n",
        "## f-strings\n",
        "Las cadenas formateadas o *f-strings* nos permiten incrustar variables en una cadena con una sintaxis muy cómoda. Para definir una cadena mediante este método, escribimos una `f` justo antes de las comillas (ya sean simples, dobles o triples). Veámoslo con un ejemplo"
      ],
      "metadata": {
        "id": "UpJDG_T1OCvr"
      }
    },
    {
      "cell_type": "code",
      "source": [
        "nombre = \"Antonio\"\n",
        "edad = 45\n",
        "msg = f\"Me llamo {nombre} y tengo {edad} años\" # la f es para convertir los corchetes por los datos que tenga almacenados\n",
        "print(msg)"
      ],
      "metadata": {
        "colab": {
          "base_uri": "https://localhost:8080/"
        },
        "id": "148S7AzoPgcv",
        "outputId": "ab0b5b9d-65e2-4170-d5eb-62529ed1a30e"
      },
      "execution_count": 25,
      "outputs": [
        {
          "output_type": "stream",
          "name": "stdout",
          "text": [
            "Me llamo Antonio y tengo 45 años\n"
          ]
        }
      ]
    },
    {
      "cell_type": "markdown",
      "source": [
        "No solo podemos incluir variables si no expresiones que son directamente evaluadas"
      ],
      "metadata": {
        "id": "KZ5IvfiYPtxn"
      }
    },
    {
      "cell_type": "code",
      "source": [
        "x = 432\n",
        "y = 17\n",
        "msg = f\"El cociente de dividir {x} entre {y} vale {x % y}\"\n",
        "print(msg)"
      ],
      "metadata": {
        "colab": {
          "base_uri": "https://localhost:8080/"
        },
        "id": "mGtA6FO7Q1fS",
        "outputId": "7f51e7d1-4b1e-46ff-a299-1a018770bfb0"
      },
      "execution_count": 26,
      "outputs": [
        {
          "output_type": "stream",
          "name": "stdout",
          "text": [
            "El cociente de dividir 432 entre 17 vale 7\n"
          ]
        }
      ]
    },
    {
      "cell_type": "markdown",
      "source": [
        "Las cadenas formatedas no están disponibles en versiones de Python anteriores a la 3.6, en su lugar hay que usar la antigua sintaxis con la función `format`. Para mostrar un número concreto de decimales u otras opciones, existe la posibilidad de formatear las cadenas"
      ],
      "metadata": {
        "id": "n9xz29i0RIBI"
      }
    },
    {
      "cell_type": "code",
      "source": [
        "from math import pi\n",
        "print(f\"El número 𝜋 con 7 decimales: {pi:0.7f}\")\n",
        "print(f\"El numero 10pi con 5 decimales: {pi:5g}\")"
      ],
      "metadata": {
        "id": "EQkkeElGf4HN",
        "outputId": "b28cbde8-46ad-4fec-b781-edcdb44b1491",
        "colab": {
          "base_uri": "https://localhost:8080/"
        }
      },
      "execution_count": 30,
      "outputs": [
        {
          "output_type": "stream",
          "name": "stdout",
          "text": [
            "El número 𝜋 con 7 decimales: 3.1415927\n",
            "El numero 10pi con 5 decimales: 3.14159\n"
          ]
        }
      ]
    },
    {
      "cell_type": "markdown",
      "source": [
        ":::{exercise}\n",
        ":label: strings-split\n",
        "\n",
        "¿En qué se diferencian las funciones `split` y `rsplit`?\n",
        "\n",
        ":::"
      ],
      "metadata": {
        "id": "NDGy8fEFRVWz"
      }
    },
    {
      "cell_type": "code",
      "source": [
        "# La funcion split lo que hace es separar la cadenas en segmentos por la derecha y rsplit por la izquierda\n",
        "\"Hola mundo, me llamo Javi\".split(\" \", maxsplit = 2)"
      ],
      "metadata": {
        "colab": {
          "base_uri": "https://localhost:8080/"
        },
        "id": "KSAX5k8hFCnm",
        "outputId": "8339a129-a8d5-4bd3-d5f2-f8e6dca19259"
      },
      "execution_count": 35,
      "outputs": [
        {
          "output_type": "execute_result",
          "data": {
            "text/plain": [
              "['Hola', 'mundo,', 'me llamo Javi']"
            ]
          },
          "metadata": {},
          "execution_count": 35
        }
      ]
    },
    {
      "cell_type": "code",
      "source": [
        "\"Hola mundo, me llamo Javi\".rsplit(\" \", maxsplit = 2)"
      ],
      "metadata": {
        "colab": {
          "base_uri": "https://localhost:8080/"
        },
        "id": "QqEUYrS3G6D8",
        "outputId": "d1524c99-ac9c-4282-d1d7-9a5b61b8cde9"
      },
      "execution_count": 36,
      "outputs": [
        {
          "output_type": "execute_result",
          "data": {
            "text/plain": [
              "['Hola mundo, me', 'llamo', 'Javi']"
            ]
          },
          "metadata": {},
          "execution_count": 36
        }
      ]
    },
    {
      "cell_type": "markdown",
      "source": [
        ":::{exercise}\n",
        ":label: strings-scape\n",
        "\n",
        "Considera las siguientes cadenas\n",
        "\n",
        "\n",
        "```\n",
        "x = \"foo\\nbar\"\n",
        "y = \"\"\"\n",
        "foo\n",
        "bar\n",
        "\"\"\"\n",
        "```\n",
        "\n",
        "¿Se tiene que `x == y`? ¿Por qué?\n",
        "\n",
        ":::"
      ],
      "metadata": {
        "id": "0OsX4BYWUVTP"
      }
    },
    {
      "cell_type": "code",
      "source": [
        "x = \"foo\\nbar\"\n",
        "y = \"\"\"\n",
        "foo\n",
        "bar\n",
        "\"\"\"\n",
        "print (x)\n",
        "print (y)"
      ],
      "metadata": {
        "colab": {
          "base_uri": "https://localhost:8080/"
        },
        "id": "iipzOIbmHDt5",
        "outputId": "f765cfda-d410-4305-a5fc-9baee676bc2f"
      },
      "execution_count": 39,
      "outputs": [
        {
          "output_type": "stream",
          "name": "stdout",
          "text": [
            "foo\n",
            "bar\n",
            "\n",
            "foo\n",
            "bar\n",
            "\n"
          ]
        }
      ]
    },
    {
      "cell_type": "code",
      "source": [
        "# no son iguales porque 1 tiene saltos de linea arriba y abajo y la otra no\n",
        "print (x==y)"
      ],
      "metadata": {
        "colab": {
          "base_uri": "https://localhost:8080/"
        },
        "id": "2DYGx2cDHb7n",
        "outputId": "cca47046-f848-4795-f687-27479abf5c22"
      },
      "execution_count": 40,
      "outputs": [
        {
          "output_type": "stream",
          "name": "stdout",
          "text": [
            "False\n"
          ]
        }
      ]
    },
    {
      "cell_type": "markdown",
      "source": [
        ":::{exercise}\n",
        ":label: strings-check-name\n",
        "\n",
        "Utilizando la variable `ascii_lowercase` del módulo `string`, escribe una cadena formateada que indique si tu nombre contiene la decimosegunda letra del abecedario.\n",
        "\n",
        ":::"
      ],
      "metadata": {
        "id": "hRULYfcPVB_D"
      }
    },
    {
      "cell_type": "code",
      "source": [
        "import string\n",
        "type(string.ascii_lowercase)\n",
        "print(string.ascii_lowercase)\n",
        "contains: bool = string.ascii_lowercase[9] in \"Javier\".lower()\n",
        "f\"Mi nombre contiene la novena letra del abecedario: {contains}\""
      ],
      "metadata": {
        "colab": {
          "base_uri": "https://localhost:8080/",
          "height": 53
        },
        "id": "r-U3a7PIHl1Q",
        "outputId": "9c596901-31d5-43f4-c285-cba374579cc1"
      },
      "execution_count": 49,
      "outputs": [
        {
          "output_type": "stream",
          "name": "stdout",
          "text": [
            "abcdefghijklmnopqrstuvwxyz\n"
          ]
        },
        {
          "output_type": "execute_result",
          "data": {
            "text/plain": [
              "'Mi nombre contiene la novena letra del abecedario: True'"
            ],
            "application/vnd.google.colaboratory.intrinsic+json": {
              "type": "string"
            }
          },
          "metadata": {},
          "execution_count": 49
        }
      ]
    },
    {
      "cell_type": "code",
      "source": [
        "\"h\" in \"hola\""
      ],
      "metadata": {
        "colab": {
          "base_uri": "https://localhost:8080/"
        },
        "id": "KzBEYmS7IGyt",
        "outputId": "f2cae9c2-1297-4ab8-c24f-7e813fa4837e"
      },
      "execution_count": 43,
      "outputs": [
        {
          "output_type": "execute_result",
          "data": {
            "text/plain": [
              "True"
            ]
          },
          "metadata": {},
          "execution_count": 43
        }
      ]
    }
  ],
  "metadata": {
    "kernelspec": {
      "display_name": "Python 3.9.1 64-bit",
      "language": "python",
      "name": "python3"
    },
    "language_info": {
      "name": "python",
      "version": "3.9.1"
    },
    "orig_nbformat": 4,
    "vscode": {
      "interpreter": {
        "hash": "397704579725e15f5c7cb49fe5f0341eb7531c82d19f2c29d197e8b64ab5776b"
      }
    },
    "colab": {
      "provenance": [],
      "include_colab_link": true
    }
  },
  "nbformat": 4,
  "nbformat_minor": 0
}