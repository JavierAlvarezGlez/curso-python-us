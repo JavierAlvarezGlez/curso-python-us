{
  "cells": [
    {
      "cell_type": "markdown",
      "metadata": {
        "id": "fBDjXAEVw6sA"
      },
      "source": [
        "# Booleanos\n",
        "\n",
        "Existen dos objetos de **tipo booleano** `bool`\n",
        "- `True`\n",
        "- `False`\n",
        "\n",
        "ya hemos visto anteriormente funciones que devuelven valores booleanos como `isinstance` o los operadores `is` o `==`."
      ]
    },
    {
      "cell_type": "code",
      "source": [
        "type(True)"
      ],
      "metadata": {
        "id": "QpOJEADNw6sB",
        "colab": {
          "base_uri": "https://localhost:8080/"
        },
        "outputId": "aeaa9ce7-412b-49e2-b3ea-ec2fd05940b4"
      },
      "execution_count": 1,
      "outputs": [
        {
          "output_type": "execute_result",
          "data": {
            "text/plain": [
              "bool"
            ]
          },
          "metadata": {},
          "execution_count": 1
        }
      ]
    },
    {
      "cell_type": "code",
      "source": [
        "isinstance(False, bool)"
      ],
      "metadata": {
        "colab": {
          "base_uri": "https://localhost:8080/"
        },
        "id": "-Yt08il5xb0r",
        "outputId": "1e119713-c471-4e50-d1e1-56c0c74524b9"
      },
      "execution_count": 2,
      "outputs": [
        {
          "output_type": "execute_result",
          "data": {
            "text/plain": [
              "True"
            ]
          },
          "metadata": {},
          "execution_count": 2
        }
      ]
    },
    {
      "cell_type": "markdown",
      "source": [
        "---\n",
        "## Operaciones lógicas\n",
        "Python incluye operadores estándar para realizar **operaciones lógicas** básicas\n",
        "\n",
        "| Operador Lógico | Operador Simbólico |\n",
        "|:---------------:|:------------------:|\n",
        "| and             | &                  |\n",
        "| or              | \\|                 |\n",
        "| not             |                    |"
      ],
      "metadata": {
        "id": "Aoni59FuyA-c"
      }
    },
    {
      "cell_type": "code",
      "source": [
        "True or False"
      ],
      "metadata": {
        "colab": {
          "base_uri": "https://localhost:8080/"
        },
        "id": "rAuaCXhu35E8",
        "outputId": "a735c676-696f-4d92-ce5c-a7aa25736073"
      },
      "execution_count": 3,
      "outputs": [
        {
          "output_type": "execute_result",
          "data": {
            "text/plain": [
              "True"
            ]
          },
          "metadata": {},
          "execution_count": 3
        }
      ]
    },
    {
      "cell_type": "code",
      "source": [
        "True and False"
      ],
      "metadata": {
        "colab": {
          "base_uri": "https://localhost:8080/"
        },
        "id": "MXeOwA0M4XGa",
        "outputId": "f6f81924-d1ed-4d3c-f0ec-21b667843786"
      },
      "execution_count": 4,
      "outputs": [
        {
          "output_type": "execute_result",
          "data": {
            "text/plain": [
              "False"
            ]
          },
          "metadata": {},
          "execution_count": 4
        }
      ]
    },
    {
      "cell_type": "code",
      "source": [
        "not False"
      ],
      "metadata": {
        "colab": {
          "base_uri": "https://localhost:8080/"
        },
        "id": "rO8UPrjJ4YHh",
        "outputId": "0038ae4a-b46d-4b54-d5f4-3f3cadd45567"
      },
      "execution_count": 5,
      "outputs": [
        {
          "output_type": "execute_result",
          "data": {
            "text/plain": [
              "True"
            ]
          },
          "metadata": {},
          "execution_count": 5
        }
      ]
    },
    {
      "cell_type": "markdown",
      "source": [
        "A la hora de evaluar un operador lógico, Python hace los cálculos necesarios para computar el argumento izquierdo y, en caso de ser necesario, evalúa el argumento derecho."
      ],
      "metadata": {
        "id": "2CkmyxyrSFOm"
      }
    },
    {
      "cell_type": "markdown",
      "source": [
        "Los **operadores simbólicos** se comportan igual que su correspondiente operador lógico cuando los utilizamos con booleanos. Sin embargo, estos operadores también se emplean para representar [*operaciones a nivel de bits*](https://en.wikipedia.org/wiki/Bitwise_operation). Por ejemplo, el `&` representa el *bitwise-and*"
      ],
      "metadata": {
        "id": "Lq6ankXv7O6U"
      }
    },
    {
      "cell_type": "code",
      "source": [
        "2 & 1\n",
        "# Esto pasa porque 2 -> 10 y 1-> 01 en binario, entonces 10x01 = 00"
      ],
      "metadata": {
        "colab": {
          "base_uri": "https://localhost:8080/"
        },
        "id": "bO_on31v8VsJ",
        "outputId": "70f7c3a1-7b87-4428-a2db-8d896f427d26"
      },
      "execution_count": 7,
      "outputs": [
        {
          "output_type": "execute_result",
          "data": {
            "text/plain": [
              "0"
            ]
          },
          "metadata": {},
          "execution_count": 7
        }
      ]
    },
    {
      "cell_type": "markdown",
      "source": [
        "es bastante común encontarse con resultados inesperados cuando se utilizan estos operadores, ya que por ejemplo tienen un orden de evaluación distinto. Por ello, siempre que sea posible, intentaremos usar los operadores lógicos, lo que se considera un estilo más *pythónico*. Sin embargo, no se puede definir un comportamiento especial para los operadores lógicos `and` y `or` cuando definamos nuestras clases, de ahí que sea necesario usar los operadores `&` y `|` en paquetes como `numpy` o `pandas`."
      ],
      "metadata": {
        "id": "7SkQ5ELE8XFn"
      }
    },
    {
      "cell_type": "markdown",
      "source": [
        "El orden de preferencia con los operadores lógicos es el siguiente: `not` > `and` > `or`"
      ],
      "metadata": {
        "id": "i1iPysSBAAd0"
      }
    },
    {
      "cell_type": "code",
      "source": [
        "False and True or True"
      ],
      "metadata": {
        "colab": {
          "base_uri": "https://localhost:8080/"
        },
        "id": "fHPt1SPrFxjn",
        "outputId": "a9c85bfc-2800-4f94-f071-977584a0bb07"
      },
      "execution_count": 9,
      "outputs": [
        {
          "output_type": "execute_result",
          "data": {
            "text/plain": [
              "True"
            ]
          },
          "metadata": {},
          "execution_count": 9
        }
      ]
    },
    {
      "cell_type": "markdown",
      "source": [
        "Para alterar el orden de preferencia en Python podemos utilizar parétesis"
      ],
      "metadata": {
        "id": "3piOcO7wH3d8"
      }
    },
    {
      "cell_type": "code",
      "source": [
        "False and (True or True)"
      ],
      "metadata": {
        "colab": {
          "base_uri": "https://localhost:8080/"
        },
        "id": "dLyOHK4VG8cB",
        "outputId": "16d1aec2-ad20-4607-82eb-5fe5192c92c8"
      },
      "execution_count": 10,
      "outputs": [
        {
          "output_type": "execute_result",
          "data": {
            "text/plain": [
              "False"
            ]
          },
          "metadata": {},
          "execution_count": 10
        }
      ]
    },
    {
      "cell_type": "markdown",
      "source": [
        "Los **operadores de comparación** usuales también devuelven booleanos y tienen preferencia frente a los operadores lógicos. No está mal añadir paréntesis redundantes si ayuda a legibilidad de la expresión"
      ],
      "metadata": {
        "id": "zCXvi8wuH2lk"
      }
    },
    {
      "cell_type": "code",
      "source": [
        "2 < 3"
      ],
      "metadata": {
        "colab": {
          "base_uri": "https://localhost:8080/"
        },
        "id": "Wo38Xc4wIEKY",
        "outputId": "1060b5b0-864a-4e0b-bd3d-096546f1726e"
      },
      "execution_count": 11,
      "outputs": [
        {
          "output_type": "execute_result",
          "data": {
            "text/plain": [
              "True"
            ]
          },
          "metadata": {},
          "execution_count": 11
        }
      ]
    },
    {
      "cell_type": "code",
      "source": [
        "10.5 >= 4.7"
      ],
      "metadata": {
        "colab": {
          "base_uri": "https://localhost:8080/"
        },
        "id": "8arns2-HIHdy",
        "outputId": "ad5ef560-f82c-4611-d5eb-8d930c8fd8e5"
      },
      "execution_count": 12,
      "outputs": [
        {
          "output_type": "execute_result",
          "data": {
            "text/plain": [
              "True"
            ]
          },
          "metadata": {},
          "execution_count": 12
        }
      ]
    },
    {
      "cell_type": "code",
      "source": [
        "(2 < 4) and not (4 != -1)"
      ],
      "metadata": {
        "colab": {
          "base_uri": "https://localhost:8080/"
        },
        "id": "jXv-Wa4VIKes",
        "outputId": "f44aeda9-935c-4924-f9ff-5190c21e26d0"
      },
      "execution_count": 13,
      "outputs": [
        {
          "output_type": "execute_result",
          "data": {
            "text/plain": [
              "False"
            ]
          },
          "metadata": {},
          "execution_count": 13
        }
      ]
    },
    {
      "cell_type": "markdown",
      "source": [
        "---\n",
        "## Los booleanos son enteros\n",
        "\n",
        "En realidad el tipo booleano es un caso particular de entero, o más precisamente es una subclase."
      ],
      "metadata": {
        "id": "yvEPOdvWIaZu"
      }
    },
    {
      "cell_type": "code",
      "source": [
        "isinstance(True, int)"
      ],
      "metadata": {
        "colab": {
          "base_uri": "https://localhost:8080/"
        },
        "id": "OjTAO3TGIzLQ",
        "outputId": "b64cd686-795c-454c-c609-1894be40b753"
      },
      "execution_count": 14,
      "outputs": [
        {
          "output_type": "execute_result",
          "data": {
            "text/plain": [
              "True"
            ]
          },
          "metadata": {},
          "execution_count": 14
        }
      ]
    },
    {
      "cell_type": "code",
      "source": [
        "int(True)"
      ],
      "metadata": {
        "colab": {
          "base_uri": "https://localhost:8080/"
        },
        "id": "9v81PmRKJWUT",
        "outputId": "ca4e21fb-b003-43a7-a067-8b94f6c76347"
      },
      "execution_count": 15,
      "outputs": [
        {
          "output_type": "execute_result",
          "data": {
            "text/plain": [
              "1"
            ]
          },
          "metadata": {},
          "execution_count": 15
        }
      ]
    },
    {
      "cell_type": "code",
      "source": [
        "int(False)"
      ],
      "metadata": {
        "colab": {
          "base_uri": "https://localhost:8080/"
        },
        "id": "ZDasyUNvJXPp",
        "outputId": "ae174f69-73e9-4cae-ff98-3808d285a8eb"
      },
      "execution_count": 16,
      "outputs": [
        {
          "output_type": "execute_result",
          "data": {
            "text/plain": [
              "0"
            ]
          },
          "metadata": {},
          "execution_count": 16
        }
      ]
    },
    {
      "cell_type": "markdown",
      "source": [
        "Como tales, podemos usarlos en operaciones matemáticas de forma totalmente intercambiable por los enteros 0 y 1."
      ],
      "metadata": {
        "id": "4ZGRJG7fJZAX"
      }
    },
    {
      "cell_type": "code",
      "source": [
        "3*True - False\n",
        "# True = 1 y False = 0"
      ],
      "metadata": {
        "colab": {
          "base_uri": "https://localhost:8080/"
        },
        "id": "UgTMxJw7JhxK",
        "outputId": "53e260d0-a648-481b-ab39-c7a2cf9ec975"
      },
      "execution_count": 19,
      "outputs": [
        {
          "output_type": "execute_result",
          "data": {
            "text/plain": [
              "3"
            ]
          },
          "metadata": {},
          "execution_count": 19
        }
      ]
    },
    {
      "cell_type": "code",
      "source": [
        "True / False"
      ],
      "metadata": {
        "colab": {
          "base_uri": "https://localhost:8080/",
          "height": 175
        },
        "id": "XzIe4J2eJjgp",
        "outputId": "6ef8aac7-fb54-462f-d8b2-cd9ec14679ea"
      },
      "execution_count": 18,
      "outputs": [
        {
          "output_type": "error",
          "ename": "ZeroDivisionError",
          "evalue": "ignored",
          "traceback": [
            "\u001b[0;31m---------------------------------------------------------------------------\u001b[0m",
            "\u001b[0;31mZeroDivisionError\u001b[0m                         Traceback (most recent call last)",
            "\u001b[0;32m<ipython-input-18-f8487d9d0863>\u001b[0m in \u001b[0;36m<cell line: 1>\u001b[0;34m()\u001b[0m\n\u001b[0;32m----> 1\u001b[0;31m \u001b[0;32mTrue\u001b[0m \u001b[0;34m/\u001b[0m \u001b[0;32mFalse\u001b[0m\u001b[0;34m\u001b[0m\u001b[0;34m\u001b[0m\u001b[0m\n\u001b[0m",
            "\u001b[0;31mZeroDivisionError\u001b[0m: division by zero"
          ]
        }
      ]
    },
    {
      "cell_type": "markdown",
      "source": [
        ":::{exercise}\n",
        ":label: booleans-expression\n",
        "\n",
        "- Suponiendo que `x` es de tipo `int`, escribe una expresión que devuelva `True` si el resto de dividir `x` entre 7 es par o `False` en caso contrario.\n",
        "\n",
        "- Escribe una expresión que evalúe si una variable `x` es booleana o un flotante.\n",
        "\n",
        ":::"
      ],
      "metadata": {
        "id": "G1EqCZ3uJlP0"
      }
    },
    {
      "cell_type": "code",
      "source": [
        "x: int = 21\n",
        "condition = (x%7) % 2 == 0\n",
        "print(condition)"
      ],
      "metadata": {
        "id": "Eodxv-XFLHt-",
        "outputId": "f1a7e1e5-7578-459d-ae56-1b20f0a408dd",
        "colab": {
          "base_uri": "https://localhost:8080/"
        }
      },
      "execution_count": 30,
      "outputs": [
        {
          "output_type": "stream",
          "name": "stdout",
          "text": [
            "True\n"
          ]
        }
      ]
    },
    {
      "cell_type": "code",
      "source": [
        "isinstance(x, bool) or isinstance(x, float)"
      ],
      "metadata": {
        "id": "hc_bcaixMQP8",
        "outputId": "9739de4d-dde8-419b-df86-0d22abce2784",
        "colab": {
          "base_uri": "https://localhost:8080/"
        }
      },
      "execution_count": 31,
      "outputs": [
        {
          "output_type": "execute_result",
          "data": {
            "text/plain": [
              "False"
            ]
          },
          "metadata": {},
          "execution_count": 31
        }
      ]
    },
    {
      "cell_type": "markdown",
      "source": [
        ":::{exercise}\n",
        ":label: booleans-expression-2\n",
        "\n",
        "Dado `a = 10`, considera la siguiente expresión\n",
        "\n",
        "```\n",
        ">>> a <= 10 & 1 < a\n",
        "False\n",
        "```\n",
        "\n",
        "¿Por qué no devuelve `True`? ¿Cómo podemos arreglarlo?\n",
        ":::"
      ],
      "metadata": {
        "id": "NYXyqgehKa0M"
      }
    },
    {
      "cell_type": "code",
      "source": [
        "# Porque primero hace el menor igual del 10 y del 1 y luego hace que a es mayor que 1"
      ],
      "metadata": {
        "id": "ETLFHTeUMJhs"
      },
      "execution_count": null,
      "outputs": []
    },
    {
      "cell_type": "markdown",
      "source": [
        "---\n",
        "## El tipo `None`\n",
        "\n",
        "Existe otro tipo que suele ser utilizado junto con booleanos, el `NoneType`. Este tipo tiene solo un objeto, `None`, que se suele utilizar para representar que un dato es vacío o desconocido."
      ],
      "metadata": {
        "id": "9jfOC1nnNxxr"
      }
    },
    {
      "cell_type": "code",
      "source": [
        "type(None)"
      ],
      "metadata": {
        "id": "D-AntHf5OLM6",
        "outputId": "5baf9c64-1cc9-4955-d132-76302eb02c62",
        "colab": {
          "base_uri": "https://localhost:8080/"
        }
      },
      "execution_count": null,
      "outputs": [
        {
          "output_type": "execute_result",
          "data": {
            "text/plain": [
              "NoneType"
            ]
          },
          "metadata": {},
          "execution_count": 1
        }
      ]
    },
    {
      "cell_type": "markdown",
      "source": [
        "Dado que `NoneType` contiene solo un tipo, lo que se suele hacer para comprobar si un objeto pertenece a esta clase es verificar si dicho objeto es `None`. Recordemos que el operador para ver si dos objetos son *idénticos* es `is`, mientras que usamos `==` para comparar valores o estados."
      ],
      "metadata": {
        "id": "VZb9k839OYkf"
      }
    },
    {
      "cell_type": "code",
      "source": [
        "x = 22\n",
        "x is None"
      ],
      "metadata": {
        "id": "tWyQeTVGOMAx",
        "outputId": "1caa712d-cda3-4bbf-c505-df18a38d31de",
        "colab": {
          "base_uri": "https://localhost:8080/"
        }
      },
      "execution_count": 32,
      "outputs": [
        {
          "output_type": "execute_result",
          "data": {
            "text/plain": [
              "False"
            ]
          },
          "metadata": {},
          "execution_count": 32
        }
      ]
    },
    {
      "cell_type": "code",
      "source": [
        "x is not None"
      ],
      "metadata": {
        "id": "7GstKgRLO0Lc",
        "outputId": "e41d7d19-2b8e-40b1-9559-ba2bc5472491",
        "colab": {
          "base_uri": "https://localhost:8080/"
        }
      },
      "execution_count": 33,
      "outputs": [
        {
          "output_type": "execute_result",
          "data": {
            "text/plain": [
              "True"
            ]
          },
          "metadata": {},
          "execution_count": 33
        }
      ]
    },
    {
      "cell_type": "code",
      "source": [
        "# El None lo utilizaremos para argumentos de tipo mutable o para un dato desconocido"
      ],
      "metadata": {
        "id": "zGeUXFu0NQZg"
      },
      "execution_count": null,
      "outputs": []
    },
    {
      "cell_type": "markdown",
      "source": [
        "Por ahora es suficiente que sepamos que existe, ya veremos cómo utilizarlo cuando hablemos de **flujos de control**."
      ],
      "metadata": {
        "id": "somB-p-MQYZz"
      }
    }
  ],
  "metadata": {
    "kernelspec": {
      "display_name": "Python 3.9.1 64-bit",
      "language": "python",
      "name": "python3"
    },
    "language_info": {
      "name": "python",
      "version": "3.9.1"
    },
    "orig_nbformat": 4,
    "vscode": {
      "interpreter": {
        "hash": "397704579725e15f5c7cb49fe5f0341eb7531c82d19f2c29d197e8b64ab5776b"
      }
    },
    "colab": {
      "provenance": []
    }
  },
  "nbformat": 4,
  "nbformat_minor": 0
}